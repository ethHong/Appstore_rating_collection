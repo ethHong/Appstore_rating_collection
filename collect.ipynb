{
 "cells": [
  {
   "cell_type": "code",
   "execution_count": 85,
   "source": [
    "from bs4 import BeautifulSoup\n",
    "import re\n",
    "from selenium import webdriver\n",
    "from selenium.webdriver.support.ui import WebDriverWait\n",
    "from selenium.webdriver.support import expected_conditions as EC\n",
    "from selenium.webdriver.common.by import By\n",
    "import os\n",
    "#from fake_useragent import UserAgent\n",
    "import time\n",
    "import platform\n",
    "import json"
   ],
   "outputs": [],
   "metadata": {}
  },
  {
   "cell_type": "markdown",
   "source": [
    "# Setting"
   ],
   "metadata": {}
  },
  {
   "cell_type": "code",
   "execution_count": 90,
   "source": [
    "if platform.system() == \"Windows\":\n",
    "    driverpath = os.getcwd() + \"/chromedriver.exe\"\n",
    "else:\n",
    "    driverpath = os.getcwd() + \"/chromedriver\"\n",
    "\n",
    "def mock_user_agent():\n",
    "    ua = UserAgent()\n",
    "    \n",
    "    working = \"Mozilla/5.0 (Macintosh; Intel Mac OS X 10_15_6) AppleWebKit/605.1.15 (KHTML, like Gecko) Version/14.0.1 Safari/605.1.15\"\n",
    "    working_tail = \"(\" + working.split(\"(\")[-1]\n",
    "    random_head = ua.random.split(\"(\")[0]+\"(\"+ua.random.split(\"(\")[1]\n",
    "    return random_head + working_tail\n",
    "\n",
    "userAgent = mock_user_agent()\n",
    "\n",
    "options = webdriver.ChromeOptions()\n",
    "options.add_argument(f'user-agent={userAgent}')\n",
    "options.add_argument(\"headless\")\n",
    "options.add_experimental_option(\"excludeSwitches\", [\"enable-automation\"])"
   ],
   "outputs": [],
   "metadata": {}
  },
  {
   "cell_type": "code",
   "execution_count": 91,
   "source": [
    "\"\"\"def scroll():\n",
    "    SCROLL_PAUSE_TIME = 2\n",
    "    # Get scroll height\n",
    "    last_height = driver.execute_script(\"return document.body.scrollHeight\")\n",
    "    while True:\n",
    "        # Scroll down to bottom\n",
    "        driver.execute_script(\"window.scrollTo(0, document.body.scrollHeight);\")\n",
    "\n",
    "        # Wait to load page\n",
    "        time.sleep(SCROLL_PAUSE_TIME)\n",
    "\n",
    "        # Calculate new scroll height and compare with last scroll height\n",
    "        new_height = driver.execute_script(\"return document.body.scrollHeight\")\n",
    "        if new_height == last_height:\n",
    "            break\n",
    "        last_height = new_height\"\"\"\n",
    "\n",
    "def scroll(how_long=100):\n",
    "    SCROLL_PAUSE_TIME = 2\n",
    "    # Get scroll height\n",
    "    starttime = time.time()\n",
    "    proceed = 0\n",
    "    last_height = driver.execute_script(\"return document.body.scrollHeight\")\n",
    "    while proceed<how_long:\n",
    "        # Scroll down to bottom\n",
    "        driver.execute_script(\"window.scrollTo(0, document.body.scrollHeight);\")\n",
    "        # Wait to load page\n",
    "        time.sleep(SCROLL_PAUSE_TIME)\n",
    "\n",
    "        # Calculate new scroll height and compare with last scroll height\n",
    "        new_height = driver.execute_script(\"return document.body.scrollHeight\")\n",
    "        if new_height == last_height:\n",
    "            break\n",
    "        last_height = new_height\n",
    "        endtime = time.time()\n",
    "        proceed = endtime-starttime\n"
   ],
   "outputs": [],
   "metadata": {}
  },
  {
   "cell_type": "markdown",
   "source": [
    "# Load links from txt file"
   ],
   "metadata": {}
  },
  {
   "cell_type": "code",
   "execution_count": 92,
   "source": [
    "with open(\"links.txt\", \"r\") as f:\n",
    "    links = [i.strip() for i in f.readlines()]"
   ],
   "outputs": [],
   "metadata": {}
  },
  {
   "cell_type": "markdown",
   "source": [
    "# Get ratings"
   ],
   "metadata": {}
  },
  {
   "cell_type": "code",
   "execution_count": 93,
   "source": [
    "driver = driver = webdriver.Chrome(driverpath,  chrome_options=options)\n",
    "def get_rating(url, seconds = 100):\n",
    "    driver.get(url)\n",
    "    driver.implicitly_wait(5)\n",
    "    scroll(seconds)\n",
    "\n",
    "    html = driver.page_source\n",
    "    soup = BeautifulSoup(html, \"html.parser\") \n",
    "    reviews = soup.find_all(\"div\", {\"class\" :  \"we-customer-review lockup\"})\n",
    "    collection = {}\n",
    "    for i in range(0, len(reviews)):\n",
    "        collection[i] = {}\n",
    "        l = reviews[i]\n",
    "        collection[i][\"title\"] = l.find(\"h3\", {\"class\" : \"we-truncate we-truncate--single-line we-customer-review__title\"}).text.strip()\n",
    "        collection[i][\"contents\"] = l.find(\"div\", {\"class\" : \"we-clamp\"}).text\n",
    "        collection[i][\"rating\"] = l.find(\"figure\", {\"class\" : \"we-star-rating we-customer-review__rating we-star-rating--large\"})[\"aria-label\"]\n",
    "        collection[i][\"time\"] = l.find(\"time\")[\"datetime\"]\n",
    "\n",
    "    return collection"
   ],
   "outputs": [
    {
     "output_type": "stream",
     "name": "stderr",
     "text": [
      "/Users/HongSukhyun/opt/anaconda3/lib/python3.7/site-packages/ipykernel_launcher.py:1: DeprecationWarning: use options instead of chrome_options\n",
      "  \"\"\"Entry point for launching an IPython kernel.\n"
     ]
    }
   ],
   "metadata": {}
  },
  {
   "cell_type": "markdown",
   "source": [
    "# Collect for linkes from txt"
   ],
   "metadata": {}
  },
  {
   "cell_type": "code",
   "execution_count": 95,
   "source": [
    "filename = input(\"Enter filename: \")\n",
    "result = {}\n",
    "for url in links:\n",
    "    print (\"Collecting from {}...\".format(url))\n",
    "    temp = get_rating(url, seconds = 100)\n",
    "    result[url] = temp"
   ],
   "outputs": [
    {
     "output_type": "stream",
     "name": "stdout",
     "text": [
      "Collecting from https://apps.apple.com/us/app/planet-fitness-workouts/id399857015#see-all/reviews...\n",
      "Collecting from https://apps.apple.com/us/app/24go-by-24-hour-fitness/id1291447822#see-all/reviews...\n",
      "Collecting from https://apps.apple.com/us/app/la-fitness-mobile/id376098999#see-all/reviews...\n",
      "Collecting from https://apps.apple.com/us/app/anytime-fitness/id914150199#see-all/reviews...\n",
      "Collecting from https://apps.apple.com/us/app/life-time-digital/id1192326768#see-all/reviews...\n",
      "Collecting from https://apps.apple.com/us/app/obé-fitness-live-on-demand/id1337083258#see-all/reviews...\n",
      "Collecting from https://apps.apple.com/us/app/mirror-workout-companion/id1153358600#see-all/reviews...\n"
     ]
    }
   ],
   "metadata": {}
  },
  {
   "cell_type": "markdown",
   "source": [
    "# Export"
   ],
   "metadata": {}
  },
  {
   "cell_type": "code",
   "execution_count": 103,
   "source": [
    "with open(filename+\".json\", \"w\") as f:\n",
    "    json.dump(result, f, ensure_ascii=False, indent = \"\\t\")"
   ],
   "outputs": [],
   "metadata": {}
  },
  {
   "cell_type": "code",
   "execution_count": 105,
   "source": [
    "result = {}\n",
    "for url in links:\n",
    "    print (\"Collecting from {}...\".format(url))\n",
    "    temp = get_rating(url, seconds = 100)\n",
    "    result[url] = temp\n",
    "with open(\"dance\"+\".json\", \"w\") as f:\n",
    "    json.dump(result, f, ensure_ascii=False, indent = \"\\t\")"
   ],
   "outputs": [
    {
     "output_type": "stream",
     "name": "stdout",
     "text": [
      "Collecting from https://apps.apple.com/us/app/steezy-learn-how-to-dance/id1296001664#see-all/reviews...\n"
     ]
    }
   ],
   "metadata": {}
  }
 ],
 "metadata": {
  "orig_nbformat": 4,
  "language_info": {
   "name": "python",
   "version": "3.7.10",
   "mimetype": "text/x-python",
   "codemirror_mode": {
    "name": "ipython",
    "version": 3
   },
   "pygments_lexer": "ipython3",
   "nbconvert_exporter": "python",
   "file_extension": ".py"
  },
  "kernelspec": {
   "name": "python3",
   "display_name": "Python 3.7.10 64-bit ('base': conda)"
  },
  "interpreter": {
   "hash": "1928e560e84eb5f4e4f3643b45f846dcaa924ac5eca176ccfbe801d5c249de7e"
  }
 },
 "nbformat": 4,
 "nbformat_minor": 2
}